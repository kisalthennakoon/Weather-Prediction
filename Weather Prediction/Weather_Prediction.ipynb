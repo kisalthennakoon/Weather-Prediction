{
 "cells": [
  {
   "cell_type": "markdown",
   "id": "dd2e0d6d-bfb2-440f-91c8-fa87507154d3",
   "metadata": {},
   "source": [
    "1. Analyzing data and making train, twsr sets"
   ]
  },
  {
   "cell_type": "code",
   "execution_count": 4,
   "id": "b2fce6ef-a2e7-4c7f-a904-7ffaff62c3a3",
   "metadata": {},
   "outputs": [
    {
     "data": {
      "text/html": [
       "<div>\n",
       "<style scoped>\n",
       "    .dataframe tbody tr th:only-of-type {\n",
       "        vertical-align: middle;\n",
       "    }\n",
       "\n",
       "    .dataframe tbody tr th {\n",
       "        vertical-align: top;\n",
       "    }\n",
       "\n",
       "    .dataframe thead th {\n",
       "        text-align: right;\n",
       "    }\n",
       "</style>\n",
       "<table border=\"1\" class=\"dataframe\">\n",
       "  <thead>\n",
       "    <tr style=\"text-align: right;\">\n",
       "      <th></th>\n",
       "      <th>STATION</th>\n",
       "      <th>NAME</th>\n",
       "      <th>PRCP</th>\n",
       "      <th>TAVG</th>\n",
       "      <th>TMAX</th>\n",
       "      <th>TMIN</th>\n",
       "    </tr>\n",
       "    <tr>\n",
       "      <th>DATE</th>\n",
       "      <th></th>\n",
       "      <th></th>\n",
       "      <th></th>\n",
       "      <th></th>\n",
       "      <th></th>\n",
       "      <th></th>\n",
       "    </tr>\n",
       "  </thead>\n",
       "  <tbody>\n",
       "    <tr>\n",
       "      <th>1978-06-06</th>\n",
       "      <td>CEM00043466</td>\n",
       "      <td>COLOMBO, CE</td>\n",
       "      <td>NaN</td>\n",
       "      <td>82</td>\n",
       "      <td>86.0</td>\n",
       "      <td>NaN</td>\n",
       "    </tr>\n",
       "    <tr>\n",
       "      <th>1978-06-07</th>\n",
       "      <td>CEM00043466</td>\n",
       "      <td>COLOMBO, CE</td>\n",
       "      <td>NaN</td>\n",
       "      <td>81</td>\n",
       "      <td>NaN</td>\n",
       "      <td>77.0</td>\n",
       "    </tr>\n",
       "    <tr>\n",
       "      <th>1978-06-08</th>\n",
       "      <td>CEM00043466</td>\n",
       "      <td>COLOMBO, CE</td>\n",
       "      <td>NaN</td>\n",
       "      <td>81</td>\n",
       "      <td>NaN</td>\n",
       "      <td>75.0</td>\n",
       "    </tr>\n",
       "    <tr>\n",
       "      <th>1978-06-09</th>\n",
       "      <td>CEM00043466</td>\n",
       "      <td>COLOMBO, CE</td>\n",
       "      <td>NaN</td>\n",
       "      <td>81</td>\n",
       "      <td>88.0</td>\n",
       "      <td>NaN</td>\n",
       "    </tr>\n",
       "    <tr>\n",
       "      <th>1978-06-10</th>\n",
       "      <td>CEM00043466</td>\n",
       "      <td>COLOMBO, CE</td>\n",
       "      <td>NaN</td>\n",
       "      <td>79</td>\n",
       "      <td>NaN</td>\n",
       "      <td>72.0</td>\n",
       "    </tr>\n",
       "    <tr>\n",
       "      <th>1978-06-11</th>\n",
       "      <td>CEM00043466</td>\n",
       "      <td>COLOMBO, CE</td>\n",
       "      <td>NaN</td>\n",
       "      <td>81</td>\n",
       "      <td>NaN</td>\n",
       "      <td>NaN</td>\n",
       "    </tr>\n",
       "    <tr>\n",
       "      <th>1978-06-13</th>\n",
       "      <td>CEM00043466</td>\n",
       "      <td>COLOMBO, CE</td>\n",
       "      <td>NaN</td>\n",
       "      <td>81</td>\n",
       "      <td>NaN</td>\n",
       "      <td>79.0</td>\n",
       "    </tr>\n",
       "    <tr>\n",
       "      <th>1978-06-14</th>\n",
       "      <td>CEM00043466</td>\n",
       "      <td>COLOMBO, CE</td>\n",
       "      <td>NaN</td>\n",
       "      <td>81</td>\n",
       "      <td>NaN</td>\n",
       "      <td>79.0</td>\n",
       "    </tr>\n",
       "    <tr>\n",
       "      <th>1978-06-15</th>\n",
       "      <td>CEM00043466</td>\n",
       "      <td>COLOMBO, CE</td>\n",
       "      <td>NaN</td>\n",
       "      <td>81</td>\n",
       "      <td>NaN</td>\n",
       "      <td>77.0</td>\n",
       "    </tr>\n",
       "    <tr>\n",
       "      <th>1978-06-16</th>\n",
       "      <td>CEM00043466</td>\n",
       "      <td>COLOMBO, CE</td>\n",
       "      <td>NaN</td>\n",
       "      <td>83</td>\n",
       "      <td>NaN</td>\n",
       "      <td>NaN</td>\n",
       "    </tr>\n",
       "  </tbody>\n",
       "</table>\n",
       "</div>"
      ],
      "text/plain": [
       "                STATION         NAME  PRCP  TAVG  TMAX  TMIN\n",
       "DATE                                                        \n",
       "1978-06-06  CEM00043466  COLOMBO, CE   NaN    82  86.0   NaN\n",
       "1978-06-07  CEM00043466  COLOMBO, CE   NaN    81   NaN  77.0\n",
       "1978-06-08  CEM00043466  COLOMBO, CE   NaN    81   NaN  75.0\n",
       "1978-06-09  CEM00043466  COLOMBO, CE   NaN    81  88.0   NaN\n",
       "1978-06-10  CEM00043466  COLOMBO, CE   NaN    79   NaN  72.0\n",
       "1978-06-11  CEM00043466  COLOMBO, CE   NaN    81   NaN   NaN\n",
       "1978-06-13  CEM00043466  COLOMBO, CE   NaN    81   NaN  79.0\n",
       "1978-06-14  CEM00043466  COLOMBO, CE   NaN    81   NaN  79.0\n",
       "1978-06-15  CEM00043466  COLOMBO, CE   NaN    81   NaN  77.0\n",
       "1978-06-16  CEM00043466  COLOMBO, CE   NaN    83   NaN   NaN"
      ]
     },
     "execution_count": 4,
     "metadata": {},
     "output_type": "execute_result"
    }
   ],
   "source": [
    "import pandas as pd\n",
    "\n",
    "climate = pd.read_csv(\"weather.csv\", index_col = \"DATE\")\n",
    "climate.index = pd.to_datetime(climate.index)\n",
    "climate.head(10)"
   ]
  },
  {
   "cell_type": "code",
   "execution_count": 5,
   "id": "78a48800-d471-4379-9db2-73cf234a5ba8",
   "metadata": {},
   "outputs": [
    {
     "data": {
      "text/plain": [
       "<Axes: xlabel='DATE'>"
      ]
     },
     "execution_count": 5,
     "metadata": {},
     "output_type": "execute_result"
    },
    {
     "data": {
      "image/png": "[encoded data removed]",
      "text/plain": [
       "<Figure size 800x300 with 1 Axes>"
      ]
     },
     "metadata": {},
     "output_type": "display_data"
    }
   ],
   "source": [
    "climate[\"PRCP\"].plot(figsize=(8,3))"
   ]
  },
  {
   "cell_type": "code",
   "execution_count": 6,
   "id": "ba09e95f-9ccc-473c-8f0b-b86649ca0fbf",
   "metadata": {},
   "outputs": [
    {
     "data": {
      "text/plain": [
       "<Axes: xlabel='DATE'>"
      ]
     },
     "execution_count": 6,
     "metadata": {},
     "output_type": "execute_result"
    },
    {
     "data": {
      "image/png": "[encoded data removed]",
      "text/plain": [
       "<Figure size 800x400 with 1 Axes>"
      ]
     },
     "metadata": {},
     "output_type": "display_data"
    }
   ],
   "source": [
    "climate.drop(columns=[\"PRCP\"]).plot(figsize=(8, 4))\n"
   ]
  },
  {
   "cell_type": "code",
   "execution_count": 7,
   "id": "db5f64e9-94d0-4d41-b0ab-bd21a13b67e2",
   "metadata": {},
   "outputs": [
    {
     "data": {
      "text/plain": [
       "PRCP     974\n",
       "TAVG       0\n",
       "TMAX    1247\n",
       "TMIN    2010\n",
       "dtype: int64"
      ]
     },
     "execution_count": 7,
     "metadata": {},
     "output_type": "execute_result"
    }
   ],
   "source": [
    "features = [\"PRCP\", \"TAVG\", \"TMAX\", \"TMIN\"]\n",
    "climate[features].apply(pd.isnull).sum()"
   ]
  },
  {
   "cell_type": "code",
   "execution_count": 8,
   "id": "7ac15914-f4cd-424b-8758-7c41e6e9f93c",
   "metadata": {},
   "outputs": [
    {
     "data": {
      "text/plain": [
       "PRCP    14.348851\n",
       "TAVG     0.000000\n",
       "TMAX    18.370654\n",
       "TMIN    29.611078\n",
       "dtype: float64"
      ]
     },
     "execution_count": 8,
     "metadata": {},
     "output_type": "execute_result"
    }
   ],
   "source": [
    "climate[features].apply(pd.isnull).sum()/climate.shape[0]*100"
   ]
  },
  {
   "cell_type": "code",
   "execution_count": 9,
   "id": "e0776b42-3018-4f78-9ebd-2acab9a5cfb1",
   "metadata": {},
   "outputs": [
    {
     "data": {
      "text/plain": [
       "PRCP\n",
       "0.00    3061\n",
       "0.02     185\n",
       "0.01     175\n",
       "0.04     123\n",
       "0.06      88\n",
       "        ... \n",
       "5.12       1\n",
       "1.54       1\n",
       "2.41       1\n",
       "2.49       1\n",
       "1.95       1\n",
       "Name: count, Length: 311, dtype: int64"
      ]
     },
     "execution_count": 9,
     "metadata": {},
     "output_type": "execute_result"
    }
   ],
   "source": [
    "climate[\"PRCP\"].value_counts()"
   ]
  },
  {
   "cell_type": "code",
   "execution_count": 10,
   "id": "62cb8786-9487-4490-94f6-1c1574a75b32",
   "metadata": {},
   "outputs": [],
   "source": [
    "climate[\"PRCP\"] = climate[\"PRCP\"].fillna(0)\n",
    "climate[\"TMAX\"] = climate[\"TMAX\"].ffill()\n",
    "\n"
   ]
  },
  {
   "cell_type": "code",
   "execution_count": 11,
   "id": "53871150-b2a1-42ec-81ca-6db0dc061ad4",
   "metadata": {},
   "outputs": [],
   "source": [
    "climate[\"TMIN\"] = climate[\"TMIN\"].fillna(2*climate[\"TAVG\"]-climate[\"TMAX\"])"
   ]
  },
  {
   "cell_type": "code",
   "execution_count": 12,
   "id": "11ab5be9-3ffb-46b5-871c-57ffa0d09a03",
   "metadata": {},
   "outputs": [
    {
     "data": {
      "text/html": [
       "<div>\n",
       "<style scoped>\n",
       "    .dataframe tbody tr th:only-of-type {\n",
       "        vertical-align: middle;\n",
       "    }\n",
       "\n",
       "    .dataframe tbody tr th {\n",
       "        vertical-align: top;\n",
       "    }\n",
       "\n",
       "    .dataframe thead th {\n",
       "        text-align: right;\n",
       "    }\n",
       "</style>\n",
       "<table border=\"1\" class=\"dataframe\">\n",
       "  <thead>\n",
       "    <tr style=\"text-align: right;\">\n",
       "      <th></th>\n",
       "      <th>STATION</th>\n",
       "      <th>NAME</th>\n",
       "      <th>PRCP</th>\n",
       "      <th>TAVG</th>\n",
       "      <th>TMAX</th>\n",
       "      <th>TMIN</th>\n",
       "    </tr>\n",
       "    <tr>\n",
       "      <th>DATE</th>\n",
       "      <th></th>\n",
       "      <th></th>\n",
       "      <th></th>\n",
       "      <th></th>\n",
       "      <th></th>\n",
       "      <th></th>\n",
       "    </tr>\n",
       "  </thead>\n",
       "  <tbody>\n",
       "    <tr>\n",
       "      <th>1978-06-06</th>\n",
       "      <td>CEM00043466</td>\n",
       "      <td>COLOMBO, CE</td>\n",
       "      <td>0.0</td>\n",
       "      <td>82</td>\n",
       "      <td>86.0</td>\n",
       "      <td>78.0</td>\n",
       "    </tr>\n",
       "    <tr>\n",
       "      <th>1978-06-07</th>\n",
       "      <td>CEM00043466</td>\n",
       "      <td>COLOMBO, CE</td>\n",
       "      <td>0.0</td>\n",
       "      <td>81</td>\n",
       "      <td>86.0</td>\n",
       "      <td>77.0</td>\n",
       "    </tr>\n",
       "    <tr>\n",
       "      <th>1978-06-08</th>\n",
       "      <td>CEM00043466</td>\n",
       "      <td>COLOMBO, CE</td>\n",
       "      <td>0.0</td>\n",
       "      <td>81</td>\n",
       "      <td>86.0</td>\n",
       "      <td>75.0</td>\n",
       "    </tr>\n",
       "    <tr>\n",
       "      <th>1978-06-09</th>\n",
       "      <td>CEM00043466</td>\n",
       "      <td>COLOMBO, CE</td>\n",
       "      <td>0.0</td>\n",
       "      <td>81</td>\n",
       "      <td>88.0</td>\n",
       "      <td>74.0</td>\n",
       "    </tr>\n",
       "    <tr>\n",
       "      <th>1978-06-10</th>\n",
       "      <td>CEM00043466</td>\n",
       "      <td>COLOMBO, CE</td>\n",
       "      <td>0.0</td>\n",
       "      <td>79</td>\n",
       "      <td>88.0</td>\n",
       "      <td>72.0</td>\n",
       "    </tr>\n",
       "    <tr>\n",
       "      <th>...</th>\n",
       "      <td>...</td>\n",
       "      <td>...</td>\n",
       "      <td>...</td>\n",
       "      <td>...</td>\n",
       "      <td>...</td>\n",
       "      <td>...</td>\n",
       "    </tr>\n",
       "    <tr>\n",
       "      <th>2024-01-10</th>\n",
       "      <td>CEM00043466</td>\n",
       "      <td>COLOMBO, CE</td>\n",
       "      <td>0.0</td>\n",
       "      <td>80</td>\n",
       "      <td>84.0</td>\n",
       "      <td>77.0</td>\n",
       "    </tr>\n",
       "    <tr>\n",
       "      <th>2024-01-11</th>\n",
       "      <td>CEM00043466</td>\n",
       "      <td>COLOMBO, CE</td>\n",
       "      <td>0.0</td>\n",
       "      <td>81</td>\n",
       "      <td>89.0</td>\n",
       "      <td>76.0</td>\n",
       "    </tr>\n",
       "    <tr>\n",
       "      <th>2024-01-13</th>\n",
       "      <td>CEM00043466</td>\n",
       "      <td>COLOMBO, CE</td>\n",
       "      <td>0.0</td>\n",
       "      <td>81</td>\n",
       "      <td>91.0</td>\n",
       "      <td>71.0</td>\n",
       "    </tr>\n",
       "    <tr>\n",
       "      <th>2024-01-14</th>\n",
       "      <td>CEM00043466</td>\n",
       "      <td>COLOMBO, CE</td>\n",
       "      <td>0.0</td>\n",
       "      <td>81</td>\n",
       "      <td>91.0</td>\n",
       "      <td>73.0</td>\n",
       "    </tr>\n",
       "    <tr>\n",
       "      <th>2024-01-15</th>\n",
       "      <td>CEM00043466</td>\n",
       "      <td>COLOMBO, CE</td>\n",
       "      <td>0.0</td>\n",
       "      <td>78</td>\n",
       "      <td>89.0</td>\n",
       "      <td>73.0</td>\n",
       "    </tr>\n",
       "  </tbody>\n",
       "</table>\n",
       "<p>6788 rows × 6 columns</p>\n",
       "</div>"
      ],
      "text/plain": [
       "                STATION         NAME  PRCP  TAVG  TMAX  TMIN\n",
       "DATE                                                        \n",
       "1978-06-06  CEM00043466  COLOMBO, CE   0.0    82  86.0  78.0\n",
       "1978-06-07  CEM00043466  COLOMBO, CE   0.0    81  86.0  77.0\n",
       "1978-06-08  CEM00043466  COLOMBO, CE   0.0    81  86.0  75.0\n",
       "1978-06-09  CEM00043466  COLOMBO, CE   0.0    81  88.0  74.0\n",
       "1978-06-10  CEM00043466  COLOMBO, CE   0.0    79  88.0  72.0\n",
       "...                 ...          ...   ...   ...   ...   ...\n",
       "2024-01-10  CEM00043466  COLOMBO, CE   0.0    80  84.0  77.0\n",
       "2024-01-11  CEM00043466  COLOMBO, CE   0.0    81  89.0  76.0\n",
       "2024-01-13  CEM00043466  COLOMBO, CE   0.0    81  91.0  71.0\n",
       "2024-01-14  CEM00043466  COLOMBO, CE   0.0    81  91.0  73.0\n",
       "2024-01-15  CEM00043466  COLOMBO, CE   0.0    78  89.0  73.0\n",
       "\n",
       "[6788 rows x 6 columns]"
      ]
     },
     "execution_count": 12,
     "metadata": {},
     "output_type": "execute_result"
    }
   ],
   "source": [
    "climate"
   ]
  },
  {
   "cell_type": "code",
   "execution_count": 13,
   "id": "3d3b3078-5607-4e42-a911-663d43c926cc",
   "metadata": {},
   "outputs": [
    {
     "data": {
      "text/plain": [
       "PRCP    0\n",
       "TAVG    0\n",
       "TMAX    0\n",
       "TMIN    0\n",
       "dtype: int64"
      ]
     },
     "execution_count": 13,
     "metadata": {},
     "output_type": "execute_result"
    }
   ],
   "source": [
    "climate[features].apply(pd.isnull).sum()"
   ]
  },
  {
   "cell_type": "code",
   "execution_count": 14,
   "id": "e80dfeff-e71b-46ab-aeb4-ab4c19c343b6",
   "metadata": {},
   "outputs": [
    {
     "data": {
      "text/plain": [
       "<Axes: xlabel='DATE'>"
      ]
     },
     "execution_count": 14,
     "metadata": {},
     "output_type": "execute_result"
    },
    {
     "data": {
      "image/png": "[encoded data removed]",
      "text/plain": [
       "<Figure size 800x300 with 1 Axes>"
      ]
     },
     "metadata": {},
     "output_type": "display_data"
    },
    {
     "data": {
      "image/png": "[encoded data removed]",
      "text/plain": [
       "<Figure size 800x400 with 1 Axes>"
      ]
     },
     "metadata": {},
     "output_type": "display_data"
    }
   ],
   "source": [
    "climate[\"PRCP\"].plot(figsize=(8,3))\n",
    "climate.drop(columns=[\"PRCP\"]).plot(figsize=(8, 4))"
   ]
  },
  {
   "cell_type": "code",
   "execution_count": 15,
   "id": "a31ce40a-600f-4c7d-b748-cec7f814adf7",
   "metadata": {},
   "outputs": [
    {
     "data": {
      "text/html": [
       "<div>\n",
       "<style scoped>\n",
       "    .dataframe tbody tr th:only-of-type {\n",
       "        vertical-align: middle;\n",
       "    }\n",
       "\n",
       "    .dataframe tbody tr th {\n",
       "        vertical-align: top;\n",
       "    }\n",
       "\n",
       "    .dataframe thead th {\n",
       "        text-align: right;\n",
       "    }\n",
       "</style>\n",
       "<table border=\"1\" class=\"dataframe\">\n",
       "  <thead>\n",
       "    <tr style=\"text-align: right;\">\n",
       "      <th></th>\n",
       "      <th>PRCP</th>\n",
       "      <th>TMAX</th>\n",
       "      <th>TMIN</th>\n",
       "    </tr>\n",
       "    <tr>\n",
       "      <th>DATE</th>\n",
       "      <th></th>\n",
       "      <th></th>\n",
       "      <th></th>\n",
       "    </tr>\n",
       "  </thead>\n",
       "  <tbody>\n",
       "    <tr>\n",
       "      <th>1978-06-06</th>\n",
       "      <td>0.0</td>\n",
       "      <td>86.0</td>\n",
       "      <td>78.0</td>\n",
       "    </tr>\n",
       "    <tr>\n",
       "      <th>1978-06-07</th>\n",
       "      <td>0.0</td>\n",
       "      <td>86.0</td>\n",
       "      <td>77.0</td>\n",
       "    </tr>\n",
       "    <tr>\n",
       "      <th>1978-06-08</th>\n",
       "      <td>0.0</td>\n",
       "      <td>86.0</td>\n",
       "      <td>75.0</td>\n",
       "    </tr>\n",
       "    <tr>\n",
       "      <th>1978-06-09</th>\n",
       "      <td>0.0</td>\n",
       "      <td>88.0</td>\n",
       "      <td>74.0</td>\n",
       "    </tr>\n",
       "    <tr>\n",
       "      <th>1978-06-10</th>\n",
       "      <td>0.0</td>\n",
       "      <td>88.0</td>\n",
       "      <td>72.0</td>\n",
       "    </tr>\n",
       "    <tr>\n",
       "      <th>...</th>\n",
       "      <td>...</td>\n",
       "      <td>...</td>\n",
       "      <td>...</td>\n",
       "    </tr>\n",
       "    <tr>\n",
       "      <th>2024-01-10</th>\n",
       "      <td>0.0</td>\n",
       "      <td>84.0</td>\n",
       "      <td>77.0</td>\n",
       "    </tr>\n",
       "    <tr>\n",
       "      <th>2024-01-11</th>\n",
       "      <td>0.0</td>\n",
       "      <td>89.0</td>\n",
       "      <td>76.0</td>\n",
       "    </tr>\n",
       "    <tr>\n",
       "      <th>2024-01-13</th>\n",
       "      <td>0.0</td>\n",
       "      <td>91.0</td>\n",
       "      <td>71.0</td>\n",
       "    </tr>\n",
       "    <tr>\n",
       "      <th>2024-01-14</th>\n",
       "      <td>0.0</td>\n",
       "      <td>91.0</td>\n",
       "      <td>73.0</td>\n",
       "    </tr>\n",
       "    <tr>\n",
       "      <th>2024-01-15</th>\n",
       "      <td>0.0</td>\n",
       "      <td>89.0</td>\n",
       "      <td>73.0</td>\n",
       "    </tr>\n",
       "  </tbody>\n",
       "</table>\n",
       "<p>6788 rows × 3 columns</p>\n",
       "</div>"
      ],
      "text/plain": [
       "            PRCP  TMAX  TMIN\n",
       "DATE                        \n",
       "1978-06-06   0.0  86.0  78.0\n",
       "1978-06-07   0.0  86.0  77.0\n",
       "1978-06-08   0.0  86.0  75.0\n",
       "1978-06-09   0.0  88.0  74.0\n",
       "1978-06-10   0.0  88.0  72.0\n",
       "...          ...   ...   ...\n",
       "2024-01-10   0.0  84.0  77.0\n",
       "2024-01-11   0.0  89.0  76.0\n",
       "2024-01-13   0.0  91.0  71.0\n",
       "2024-01-14   0.0  91.0  73.0\n",
       "2024-01-15   0.0  89.0  73.0\n",
       "\n",
       "[6788 rows x 3 columns]"
      ]
     },
     "execution_count": 15,
     "metadata": {},
     "output_type": "execute_result"
    }
   ],
   "source": [
    "climate_final = climate[[\"PRCP\",\"TMAX\",\"TMIN\"]].copy()\n",
    "climate_final.columns = [\"PRCP\",\"TMAX\",\"TMIN\"]\n",
    "climate_final"
   ]
  },
  {
   "cell_type": "code",
   "execution_count": 16,
   "id": "30ce3de9-f642-4751-9997-8ce469f52a4f",
   "metadata": {},
   "outputs": [],
   "source": [
    "climate_final_cel = climate_final.copy()\n",
    "climate_final_cel[\"TMAX\"] = ((climate_final_cel[\"TMAX\"]-32)*5/9).round(2)\n",
    "climate_final_cel[\"TMIN\"] = ((climate_final_cel[\"TMIN\"]-32)*5/9).round(2)"
   ]
  },
  {
   "cell_type": "code",
   "execution_count": 17,
   "id": "f88a3b86-c346-4c6a-a0ce-e03247b428c3",
   "metadata": {},
   "outputs": [
    {
     "data": {
      "text/html": [
       "<div>\n",
       "<style scoped>\n",
       "    .dataframe tbody tr th:only-of-type {\n",
       "        vertical-align: middle;\n",
       "    }\n",
       "\n",
       "    .dataframe tbody tr th {\n",
       "        vertical-align: top;\n",
       "    }\n",
       "\n",
       "    .dataframe thead th {\n",
       "        text-align: right;\n",
       "    }\n",
       "</style>\n",
       "<table border=\"1\" class=\"dataframe\">\n",
       "  <thead>\n",
       "    <tr style=\"text-align: right;\">\n",
       "      <th></th>\n",
       "      <th>PRCP</th>\n",
       "      <th>TMAX</th>\n",
       "      <th>TMIN</th>\n",
       "    </tr>\n",
       "    <tr>\n",
       "      <th>DATE</th>\n",
       "      <th></th>\n",
       "      <th></th>\n",
       "      <th></th>\n",
       "    </tr>\n",
       "  </thead>\n",
       "  <tbody>\n",
       "    <tr>\n",
       "      <th>1978-06-06</th>\n",
       "      <td>0.0</td>\n",
       "      <td>30.00</td>\n",
       "      <td>25.56</td>\n",
       "    </tr>\n",
       "    <tr>\n",
       "      <th>1978-06-07</th>\n",
       "      <td>0.0</td>\n",
       "      <td>30.00</td>\n",
       "      <td>25.00</td>\n",
       "    </tr>\n",
       "    <tr>\n",
       "      <th>1978-06-08</th>\n",
       "      <td>0.0</td>\n",
       "      <td>30.00</td>\n",
       "      <td>23.89</td>\n",
       "    </tr>\n",
       "    <tr>\n",
       "      <th>1978-06-09</th>\n",
       "      <td>0.0</td>\n",
       "      <td>31.11</td>\n",
       "      <td>23.33</td>\n",
       "    </tr>\n",
       "    <tr>\n",
       "      <th>1978-06-10</th>\n",
       "      <td>0.0</td>\n",
       "      <td>31.11</td>\n",
       "      <td>22.22</td>\n",
       "    </tr>\n",
       "    <tr>\n",
       "      <th>...</th>\n",
       "      <td>...</td>\n",
       "      <td>...</td>\n",
       "      <td>...</td>\n",
       "    </tr>\n",
       "    <tr>\n",
       "      <th>2024-01-10</th>\n",
       "      <td>0.0</td>\n",
       "      <td>28.89</td>\n",
       "      <td>25.00</td>\n",
       "    </tr>\n",
       "    <tr>\n",
       "      <th>2024-01-11</th>\n",
       "      <td>0.0</td>\n",
       "      <td>31.67</td>\n",
       "      <td>24.44</td>\n",
       "    </tr>\n",
       "    <tr>\n",
       "      <th>2024-01-13</th>\n",
       "      <td>0.0</td>\n",
       "      <td>32.78</td>\n",
       "      <td>21.67</td>\n",
       "    </tr>\n",
       "    <tr>\n",
       "      <th>2024-01-14</th>\n",
       "      <td>0.0</td>\n",
       "      <td>32.78</td>\n",
       "      <td>22.78</td>\n",
       "    </tr>\n",
       "    <tr>\n",
       "      <th>2024-01-15</th>\n",
       "      <td>0.0</td>\n",
       "      <td>31.67</td>\n",
       "      <td>22.78</td>\n",
       "    </tr>\n",
       "  </tbody>\n",
       "</table>\n",
       "<p>6788 rows × 3 columns</p>\n",
       "</div>"
      ],
      "text/plain": [
       "            PRCP   TMAX   TMIN\n",
       "DATE                          \n",
       "1978-06-06   0.0  30.00  25.56\n",
       "1978-06-07   0.0  30.00  25.00\n",
       "1978-06-08   0.0  30.00  23.89\n",
       "1978-06-09   0.0  31.11  23.33\n",
       "1978-06-10   0.0  31.11  22.22\n",
       "...          ...    ...    ...\n",
       "2024-01-10   0.0  28.89  25.00\n",
       "2024-01-11   0.0  31.67  24.44\n",
       "2024-01-13   0.0  32.78  21.67\n",
       "2024-01-14   0.0  32.78  22.78\n",
       "2024-01-15   0.0  31.67  22.78\n",
       "\n",
       "[6788 rows x 3 columns]"
      ]
     },
     "execution_count": 17,
     "metadata": {},
     "output_type": "execute_result"
    }
   ],
   "source": [
    "climate_final_cel"
   ]
  },
  {
   "cell_type": "code",
   "execution_count": 18,
   "id": "490233ad-2819-495d-9a36-f9219255b0f0",
   "metadata": {},
   "outputs": [
    {
     "data": {
      "text/html": [
       "<div>\n",
       "<style scoped>\n",
       "    .dataframe tbody tr th:only-of-type {\n",
       "        vertical-align: middle;\n",
       "    }\n",
       "\n",
       "    .dataframe tbody tr th {\n",
       "        vertical-align: top;\n",
       "    }\n",
       "\n",
       "    .dataframe thead th {\n",
       "        text-align: right;\n",
       "    }\n",
       "</style>\n",
       "<table border=\"1\" class=\"dataframe\">\n",
       "  <thead>\n",
       "    <tr style=\"text-align: right;\">\n",
       "      <th></th>\n",
       "      <th>PRCP</th>\n",
       "      <th>TMAX</th>\n",
       "      <th>TMIN</th>\n",
       "      <th>Month_TMAX_AVG</th>\n",
       "    </tr>\n",
       "    <tr>\n",
       "      <th>DATE</th>\n",
       "      <th></th>\n",
       "      <th></th>\n",
       "      <th></th>\n",
       "      <th></th>\n",
       "    </tr>\n",
       "  </thead>\n",
       "  <tbody>\n",
       "    <tr>\n",
       "      <th>1978-06-06</th>\n",
       "      <td>0.0</td>\n",
       "      <td>30.00</td>\n",
       "      <td>25.56</td>\n",
       "      <td>NaN</td>\n",
       "    </tr>\n",
       "    <tr>\n",
       "      <th>1978-06-07</th>\n",
       "      <td>0.0</td>\n",
       "      <td>30.00</td>\n",
       "      <td>25.00</td>\n",
       "      <td>NaN</td>\n",
       "    </tr>\n",
       "    <tr>\n",
       "      <th>1978-06-08</th>\n",
       "      <td>0.0</td>\n",
       "      <td>30.00</td>\n",
       "      <td>23.89</td>\n",
       "      <td>NaN</td>\n",
       "    </tr>\n",
       "    <tr>\n",
       "      <th>1978-06-09</th>\n",
       "      <td>0.0</td>\n",
       "      <td>31.11</td>\n",
       "      <td>23.33</td>\n",
       "      <td>NaN</td>\n",
       "    </tr>\n",
       "    <tr>\n",
       "      <th>1978-06-10</th>\n",
       "      <td>0.0</td>\n",
       "      <td>31.11</td>\n",
       "      <td>22.22</td>\n",
       "      <td>NaN</td>\n",
       "    </tr>\n",
       "    <tr>\n",
       "      <th>...</th>\n",
       "      <td>...</td>\n",
       "      <td>...</td>\n",
       "      <td>...</td>\n",
       "      <td>...</td>\n",
       "    </tr>\n",
       "    <tr>\n",
       "      <th>2024-01-10</th>\n",
       "      <td>0.0</td>\n",
       "      <td>28.89</td>\n",
       "      <td>25.00</td>\n",
       "      <td>31.629667</td>\n",
       "    </tr>\n",
       "    <tr>\n",
       "      <th>2024-01-11</th>\n",
       "      <td>0.0</td>\n",
       "      <td>31.67</td>\n",
       "      <td>24.44</td>\n",
       "      <td>31.629667</td>\n",
       "    </tr>\n",
       "    <tr>\n",
       "      <th>2024-01-13</th>\n",
       "      <td>0.0</td>\n",
       "      <td>32.78</td>\n",
       "      <td>21.67</td>\n",
       "      <td>31.685333</td>\n",
       "    </tr>\n",
       "    <tr>\n",
       "      <th>2024-01-14</th>\n",
       "      <td>0.0</td>\n",
       "      <td>32.78</td>\n",
       "      <td>22.78</td>\n",
       "      <td>31.722333</td>\n",
       "    </tr>\n",
       "    <tr>\n",
       "      <th>2024-01-15</th>\n",
       "      <td>0.0</td>\n",
       "      <td>31.67</td>\n",
       "      <td>22.78</td>\n",
       "      <td>31.741000</td>\n",
       "    </tr>\n",
       "  </tbody>\n",
       "</table>\n",
       "<p>6788 rows × 4 columns</p>\n",
       "</div>"
      ],
      "text/plain": [
       "            PRCP   TMAX   TMIN  Month_TMAX_AVG\n",
       "DATE                                          \n",
       "1978-06-06   0.0  30.00  25.56             NaN\n",
       "1978-06-07   0.0  30.00  25.00             NaN\n",
       "1978-06-08   0.0  30.00  23.89             NaN\n",
       "1978-06-09   0.0  31.11  23.33             NaN\n",
       "1978-06-10   0.0  31.11  22.22             NaN\n",
       "...          ...    ...    ...             ...\n",
       "2024-01-10   0.0  28.89  25.00       31.629667\n",
       "2024-01-11   0.0  31.67  24.44       31.629667\n",
       "2024-01-13   0.0  32.78  21.67       31.685333\n",
       "2024-01-14   0.0  32.78  22.78       31.722333\n",
       "2024-01-15   0.0  31.67  22.78       31.741000\n",
       "\n",
       "[6788 rows x 4 columns]"
      ]
     },
     "execution_count": 18,
     "metadata": {},
     "output_type": "execute_result"
    }
   ],
   "source": [
    "climate_final_cel[\"Month_TMAX_AVG\"] = climate_final_cel[\"TMAX\"].rolling(30).mean()\n",
    "climate_final_cel"
   ]
  },
  {
   "cell_type": "code",
   "execution_count": 19,
   "id": "d74e8e31-0784-48c1-8bd0-d4fb0bf9a132",
   "metadata": {},
   "outputs": [
    {
     "data": {
      "text/html": [
       "<div>\n",
       "<style scoped>\n",
       "    .dataframe tbody tr th:only-of-type {\n",
       "        vertical-align: middle;\n",
       "    }\n",
       "\n",
       "    .dataframe tbody tr th {\n",
       "        vertical-align: top;\n",
       "    }\n",
       "\n",
       "    .dataframe thead th {\n",
       "        text-align: right;\n",
       "    }\n",
       "</style>\n",
       "<table border=\"1\" class=\"dataframe\">\n",
       "  <thead>\n",
       "    <tr style=\"text-align: right;\">\n",
       "      <th></th>\n",
       "      <th>PRCP</th>\n",
       "      <th>TMAX</th>\n",
       "      <th>TMIN</th>\n",
       "      <th>Month_TMAX_AVG</th>\n",
       "    </tr>\n",
       "    <tr>\n",
       "      <th>DATE</th>\n",
       "      <th></th>\n",
       "      <th></th>\n",
       "      <th></th>\n",
       "      <th></th>\n",
       "    </tr>\n",
       "  </thead>\n",
       "  <tbody>\n",
       "    <tr>\n",
       "      <th>1978-07-13</th>\n",
       "      <td>0.0</td>\n",
       "      <td>30.00</td>\n",
       "      <td>25.00</td>\n",
       "      <td>30.481000</td>\n",
       "    </tr>\n",
       "    <tr>\n",
       "      <th>1978-07-14</th>\n",
       "      <td>0.0</td>\n",
       "      <td>30.00</td>\n",
       "      <td>25.00</td>\n",
       "      <td>30.481000</td>\n",
       "    </tr>\n",
       "    <tr>\n",
       "      <th>1978-07-17</th>\n",
       "      <td>0.0</td>\n",
       "      <td>30.00</td>\n",
       "      <td>23.89</td>\n",
       "      <td>30.481000</td>\n",
       "    </tr>\n",
       "    <tr>\n",
       "      <th>1978-07-19</th>\n",
       "      <td>0.0</td>\n",
       "      <td>30.00</td>\n",
       "      <td>25.00</td>\n",
       "      <td>30.444000</td>\n",
       "    </tr>\n",
       "    <tr>\n",
       "      <th>1978-07-20</th>\n",
       "      <td>0.0</td>\n",
       "      <td>30.00</td>\n",
       "      <td>23.89</td>\n",
       "      <td>30.407000</td>\n",
       "    </tr>\n",
       "    <tr>\n",
       "      <th>...</th>\n",
       "      <td>...</td>\n",
       "      <td>...</td>\n",
       "      <td>...</td>\n",
       "      <td>...</td>\n",
       "    </tr>\n",
       "    <tr>\n",
       "      <th>2024-01-10</th>\n",
       "      <td>0.0</td>\n",
       "      <td>28.89</td>\n",
       "      <td>25.00</td>\n",
       "      <td>31.629667</td>\n",
       "    </tr>\n",
       "    <tr>\n",
       "      <th>2024-01-11</th>\n",
       "      <td>0.0</td>\n",
       "      <td>31.67</td>\n",
       "      <td>24.44</td>\n",
       "      <td>31.629667</td>\n",
       "    </tr>\n",
       "    <tr>\n",
       "      <th>2024-01-13</th>\n",
       "      <td>0.0</td>\n",
       "      <td>32.78</td>\n",
       "      <td>21.67</td>\n",
       "      <td>31.685333</td>\n",
       "    </tr>\n",
       "    <tr>\n",
       "      <th>2024-01-14</th>\n",
       "      <td>0.0</td>\n",
       "      <td>32.78</td>\n",
       "      <td>22.78</td>\n",
       "      <td>31.722333</td>\n",
       "    </tr>\n",
       "    <tr>\n",
       "      <th>2024-01-15</th>\n",
       "      <td>0.0</td>\n",
       "      <td>31.67</td>\n",
       "      <td>22.78</td>\n",
       "      <td>31.741000</td>\n",
       "    </tr>\n",
       "  </tbody>\n",
       "</table>\n",
       "<p>6758 rows × 4 columns</p>\n",
       "</div>"
      ],
      "text/plain": [
       "            PRCP   TMAX   TMIN  Month_TMAX_AVG\n",
       "DATE                                          \n",
       "1978-07-13   0.0  30.00  25.00       30.481000\n",
       "1978-07-14   0.0  30.00  25.00       30.481000\n",
       "1978-07-17   0.0  30.00  23.89       30.481000\n",
       "1978-07-19   0.0  30.00  25.00       30.444000\n",
       "1978-07-20   0.0  30.00  23.89       30.407000\n",
       "...          ...    ...    ...             ...\n",
       "2024-01-10   0.0  28.89  25.00       31.629667\n",
       "2024-01-11   0.0  31.67  24.44       31.629667\n",
       "2024-01-13   0.0  32.78  21.67       31.685333\n",
       "2024-01-14   0.0  32.78  22.78       31.722333\n",
       "2024-01-15   0.0  31.67  22.78       31.741000\n",
       "\n",
       "[6758 rows x 4 columns]"
      ]
     },
     "execution_count": 19,
     "metadata": {},
     "output_type": "execute_result"
    }
   ],
   "source": [
    "climate_final_cel = climate_final_cel.iloc[30:,:].copy()\n",
    "climate_final_cel"
   ]
  },
  {
   "cell_type": "code",
   "execution_count": 20,
   "id": "6cba944a-7889-4944-b653-125e97c8e66c",
   "metadata": {},
   "outputs": [
    {
     "data": {
      "text/html": [
       "<div>\n",
       "<style scoped>\n",
       "    .dataframe tbody tr th:only-of-type {\n",
       "        vertical-align: middle;\n",
       "    }\n",
       "\n",
       "    .dataframe tbody tr th {\n",
       "        vertical-align: top;\n",
       "    }\n",
       "\n",
       "    .dataframe thead th {\n",
       "        text-align: right;\n",
       "    }\n",
       "</style>\n",
       "<table border=\"1\" class=\"dataframe\">\n",
       "  <thead>\n",
       "    <tr style=\"text-align: right;\">\n",
       "      <th></th>\n",
       "      <th>PRCP</th>\n",
       "      <th>TMAX</th>\n",
       "      <th>TMIN</th>\n",
       "      <th>Month_TMAX_AVG</th>\n",
       "      <th>Tommorow_TMAX</th>\n",
       "    </tr>\n",
       "    <tr>\n",
       "      <th>DATE</th>\n",
       "      <th></th>\n",
       "      <th></th>\n",
       "      <th></th>\n",
       "      <th></th>\n",
       "      <th></th>\n",
       "    </tr>\n",
       "  </thead>\n",
       "  <tbody>\n",
       "    <tr>\n",
       "      <th>1978-07-13</th>\n",
       "      <td>0.0</td>\n",
       "      <td>30.00</td>\n",
       "      <td>25.00</td>\n",
       "      <td>30.481000</td>\n",
       "      <td>30.00</td>\n",
       "    </tr>\n",
       "    <tr>\n",
       "      <th>1978-07-14</th>\n",
       "      <td>0.0</td>\n",
       "      <td>30.00</td>\n",
       "      <td>25.00</td>\n",
       "      <td>30.481000</td>\n",
       "      <td>30.00</td>\n",
       "    </tr>\n",
       "    <tr>\n",
       "      <th>1978-07-17</th>\n",
       "      <td>0.0</td>\n",
       "      <td>30.00</td>\n",
       "      <td>23.89</td>\n",
       "      <td>30.481000</td>\n",
       "      <td>30.00</td>\n",
       "    </tr>\n",
       "    <tr>\n",
       "      <th>1978-07-19</th>\n",
       "      <td>0.0</td>\n",
       "      <td>30.00</td>\n",
       "      <td>25.00</td>\n",
       "      <td>30.444000</td>\n",
       "      <td>30.00</td>\n",
       "    </tr>\n",
       "    <tr>\n",
       "      <th>1978-07-20</th>\n",
       "      <td>0.0</td>\n",
       "      <td>30.00</td>\n",
       "      <td>23.89</td>\n",
       "      <td>30.407000</td>\n",
       "      <td>30.00</td>\n",
       "    </tr>\n",
       "    <tr>\n",
       "      <th>...</th>\n",
       "      <td>...</td>\n",
       "      <td>...</td>\n",
       "      <td>...</td>\n",
       "      <td>...</td>\n",
       "      <td>...</td>\n",
       "    </tr>\n",
       "    <tr>\n",
       "      <th>2024-01-10</th>\n",
       "      <td>0.0</td>\n",
       "      <td>28.89</td>\n",
       "      <td>25.00</td>\n",
       "      <td>31.629667</td>\n",
       "      <td>31.67</td>\n",
       "    </tr>\n",
       "    <tr>\n",
       "      <th>2024-01-11</th>\n",
       "      <td>0.0</td>\n",
       "      <td>31.67</td>\n",
       "      <td>24.44</td>\n",
       "      <td>31.629667</td>\n",
       "      <td>32.78</td>\n",
       "    </tr>\n",
       "    <tr>\n",
       "      <th>2024-01-13</th>\n",
       "      <td>0.0</td>\n",
       "      <td>32.78</td>\n",
       "      <td>21.67</td>\n",
       "      <td>31.685333</td>\n",
       "      <td>32.78</td>\n",
       "    </tr>\n",
       "    <tr>\n",
       "      <th>2024-01-14</th>\n",
       "      <td>0.0</td>\n",
       "      <td>32.78</td>\n",
       "      <td>22.78</td>\n",
       "      <td>31.722333</td>\n",
       "      <td>31.67</td>\n",
       "    </tr>\n",
       "    <tr>\n",
       "      <th>2024-01-15</th>\n",
       "      <td>0.0</td>\n",
       "      <td>31.67</td>\n",
       "      <td>22.78</td>\n",
       "      <td>31.741000</td>\n",
       "      <td>NaN</td>\n",
       "    </tr>\n",
       "  </tbody>\n",
       "</table>\n",
       "<p>6758 rows × 5 columns</p>\n",
       "</div>"
      ],
      "text/plain": [
       "            PRCP   TMAX   TMIN  Month_TMAX_AVG  Tommorow_TMAX\n",
       "DATE                                                         \n",
       "1978-07-13   0.0  30.00  25.00       30.481000          30.00\n",
       "1978-07-14   0.0  30.00  25.00       30.481000          30.00\n",
       "1978-07-17   0.0  30.00  23.89       30.481000          30.00\n",
       "1978-07-19   0.0  30.00  25.00       30.444000          30.00\n",
       "1978-07-20   0.0  30.00  23.89       30.407000          30.00\n",
       "...          ...    ...    ...             ...            ...\n",
       "2024-01-10   0.0  28.89  25.00       31.629667          31.67\n",
       "2024-01-11   0.0  31.67  24.44       31.629667          32.78\n",
       "2024-01-13   0.0  32.78  21.67       31.685333          32.78\n",
       "2024-01-14   0.0  32.78  22.78       31.722333          31.67\n",
       "2024-01-15   0.0  31.67  22.78       31.741000            NaN\n",
       "\n",
       "[6758 rows x 5 columns]"
      ]
     },
     "execution_count": 20,
     "metadata": {},
     "output_type": "execute_result"
    }
   ],
   "source": [
    "climate_final_cel[\"Tommorow_TMAX\"] = climate_final_cel.shift(-1)[\"TMAX\"]\n",
    "climate_final_cel"
   ]
  },
  {
   "cell_type": "code",
   "execution_count": 21,
   "id": "aa342a5d-21ed-4b89-bbf6-db33d6b66b4d",
   "metadata": {},
   "outputs": [],
   "source": [
    "predictors = [\"PRCP\", \"TMAX\", \"TMIN\",\"Month_TMAX_AVG\"]\n",
    "target = [\"Tommorow_TMAX\"]"
   ]
  },
  {
   "cell_type": "code",
   "execution_count": 22,
   "id": "22a413d3-5b2c-4278-9643-099831414a0f",
   "metadata": {},
   "outputs": [],
   "source": [
    "train_set = climate_final_cel.loc[:\"2020-12-31\"]\n",
    "test_set = climate_final_cel.loc[\"2020-12-31\":\"2024-01-14\"]"
   ]
  },
  {
   "cell_type": "markdown",
   "id": "c4bc6118-4050-4933-b636-040cee0a7ece",
   "metadata": {},
   "source": [
    "2. Train the model using Ridge Regression as the model because its handling colinearity between features well"
   ]
  },
  {
   "cell_type": "code",
   "execution_count": 23,
   "id": "619f81f5-aea2-4cc0-bc17-b8731d015695",
   "metadata": {},
   "outputs": [
    {
     "data": {
      "text/html": [
       "<style>#sk-container-id-1 {color: black;background-color: white;}#sk-container-id-1 pre{padding: 0;}#sk-container-id-1 div.sk-toggleable {background-color: white;}#sk-container-id-1 label.sk-toggleable__label {cursor: pointer;display: block;width: 100%;margin-bottom: 0;padding: 0.3em;box-sizing: border-box;text-align: center;}#sk-container-id-1 label.sk-toggleable__label-arrow:before {content: \"▸\";float: left;margin-right: 0.25em;color: #696969;}#sk-container-id-1 label.sk-toggleable__label-arrow:hover:before {color: black;}#sk-container-id-1 div.sk-estimator:hover label.sk-toggleable__label-arrow:before {color: black;}#sk-container-id-1 div.sk-toggleable__content {max-height: 0;max-width: 0;overflow: hidden;text-align: left;background-color: #f0f8ff;}#sk-container-id-1 div.sk-toggleable__content pre {margin: 0.2em;color: black;border-radius: 0.25em;background-color: #f0f8ff;}#sk-container-id-1 input.sk-toggleable__control:checked~div.sk-toggleable__content {max-height: 200px;max-width: 100%;overflow: auto;}#sk-container-id-1 input.sk-toggleable__control:checked~label.sk-toggleable__label-arrow:before {content: \"▾\";}#sk-container-id-1 div.sk-estimator input.sk-toggleable__control:checked~label.sk-toggleable__label {background-color: #d4ebff;}#sk-container-id-1 div.sk-label input.sk-toggleable__control:checked~label.sk-toggleable__label {background-color: #d4ebff;}#sk-container-id-1 input.sk-hidden--visually {border: 0;clip: rect(1px 1px 1px 1px);clip: rect(1px, 1px, 1px, 1px);height: 1px;margin: -1px;overflow: hidden;padding: 0;position: absolute;width: 1px;}#sk-container-id-1 div.sk-estimator {font-family: monospace;background-color: #f0f8ff;border: 1px dotted black;border-radius: 0.25em;box-sizing: border-box;margin-bottom: 0.5em;}#sk-container-id-1 div.sk-estimator:hover {background-color: #d4ebff;}#sk-container-id-1 div.sk-parallel-item::after {content: \"\";width: 100%;border-bottom: 1px solid gray;flex-grow: 1;}#sk-container-id-1 div.sk-label:hover label.sk-toggleable__label {background-color: #d4ebff;}#sk-container-id-1 div.sk-serial::before {content: \"\";position: absolute;border-left: 1px solid gray;box-sizing: border-box;top: 0;bottom: 0;left: 50%;z-index: 0;}#sk-container-id-1 div.sk-serial {display: flex;flex-direction: column;align-items: center;background-color: white;padding-right: 0.2em;padding-left: 0.2em;position: relative;}#sk-container-id-1 div.sk-item {position: relative;z-index: 1;}#sk-container-id-1 div.sk-parallel {display: flex;align-items: stretch;justify-content: center;background-color: white;position: relative;}#sk-container-id-1 div.sk-item::before, #sk-container-id-1 div.sk-parallel-item::before {content: \"\";position: absolute;border-left: 1px solid gray;box-sizing: border-box;top: 0;bottom: 0;left: 50%;z-index: -1;}#sk-container-id-1 div.sk-parallel-item {display: flex;flex-direction: column;z-index: 1;position: relative;background-color: white;}#sk-container-id-1 div.sk-parallel-item:first-child::after {align-self: flex-end;width: 50%;}#sk-container-id-1 div.sk-parallel-item:last-child::after {align-self: flex-start;width: 50%;}#sk-container-id-1 div.sk-parallel-item:only-child::after {width: 0;}#sk-container-id-1 div.sk-dashed-wrapped {border: 1px dashed gray;margin: 0 0.4em 0.5em 0.4em;box-sizing: border-box;padding-bottom: 0.4em;background-color: white;}#sk-container-id-1 div.sk-label label {font-family: monospace;font-weight: bold;display: inline-block;line-height: 1.2em;}#sk-container-id-1 div.sk-label-container {text-align: center;}#sk-container-id-1 div.sk-container {/* jupyter's `normalize.less` sets `[hidden] { display: none; }` but bootstrap.min.css set `[hidden] { display: none !important; }` so we also need the `!important` here to be able to override the default hidden behavior on the sphinx rendered scikit-learn.org. See: https://github.com/scikit-learn/scikit-learn/issues/21755 */display: inline-block !important;position: relative;}#sk-container-id-1 div.sk-text-repr-fallback {display: none;}</style><div id=\"sk-container-id-1\" class=\"sk-top-container\"><div class=\"sk-text-repr-fallback\"><pre>Ridge(alpha=0.1)</pre><b>In a Jupyter environment, please rerun this cell to show the HTML representation or trust the notebook. <br />On GitHub, the HTML representation is unable to render, please try loading this page with nbviewer.org.</b></div><div class=\"sk-container\" hidden><div class=\"sk-item\"><div class=\"sk-estimator sk-toggleable\"><input class=\"sk-toggleable__control sk-hidden--visually\" id=\"sk-estimator-id-1\" type=\"checkbox\" checked><label for=\"sk-estimator-id-1\" class=\"sk-toggleable__label sk-toggleable__label-arrow\">Ridge</label><div class=\"sk-toggleable__content\"><pre>Ridge(alpha=0.1)</pre></div></div></div></div></div>"
      ],
      "text/plain": [
       "Ridge(alpha=0.1)"
      ]
     },
     "execution_count": 23,
     "metadata": {},
     "output_type": "execute_result"
    }
   ],
   "source": [
    "from sklearn.linear_model import Ridge\n",
    "\n",
    "model = Ridge(alpha= 0.1)\n",
    "model.fit(train_set[predictors], train_set[target])"
   ]
  },
  {
   "cell_type": "markdown",
   "id": "5a39de8e-89b5-4aec-af0f-bb4d7d58186d",
   "metadata": {},
   "source": [
    "3. Predicting and Evaluation"
   ]
  },
  {
   "cell_type": "code",
   "execution_count": 24,
   "id": "5fbe6376-8a79-49d5-8f80-d4603ae9b0e0",
   "metadata": {},
   "outputs": [],
   "source": [
    "predictions = model.predict(test_set[predictors])"
   ]
  },
  {
   "cell_type": "code",
   "execution_count": 25,
   "id": "baff35b9-999c-42c1-9f7f-bd3741fdb17d",
   "metadata": {},
   "outputs": [
    {
     "data": {
      "text/plain": [
       "array([[30.40712047],\n",
       "       [30.43785837],\n",
       "       [31.06240722],\n",
       "       ...,\n",
       "       [31.59079784],\n",
       "       [32.19503527],\n",
       "       [32.21890655]])"
      ]
     },
     "execution_count": 25,
     "metadata": {},
     "output_type": "execute_result"
    }
   ],
   "source": [
    "predictions\n"
   ]
  },
  {
   "cell_type": "code",
   "execution_count": 26,
   "id": "ebe6ff0c-e659-4dab-8dcf-23c08ca57fff",
   "metadata": {},
   "outputs": [
    {
     "data": {
      "text/plain": [
       "0.8532880366062443"
      ]
     },
     "execution_count": 26,
     "metadata": {},
     "output_type": "execute_result"
    }
   ],
   "source": [
    "from sklearn.metrics import mean_squared_error\n",
    "\n",
    "mean_squared_error(test_set[\"Tommorow_TMAX\"], predictions)"
   ]
  },
  {
   "cell_type": "markdown",
   "id": "6f5c5e01-5940-4245-b883-e29c3d5ccd37",
   "metadata": {},
   "source": [
    "4. Compare actual values and predicted values"
   ]
  },
  {
   "cell_type": "code",
   "execution_count": 27,
   "id": "32b77dc6-a9d8-413b-9ae3-8d5921eed5de",
   "metadata": {},
   "outputs": [
    {
     "data": {
      "text/html": [
       "<div>\n",
       "<style scoped>\n",
       "    .dataframe tbody tr th:only-of-type {\n",
       "        vertical-align: middle;\n",
       "    }\n",
       "\n",
       "    .dataframe tbody tr th {\n",
       "        vertical-align: top;\n",
       "    }\n",
       "\n",
       "    .dataframe thead th {\n",
       "        text-align: right;\n",
       "    }\n",
       "</style>\n",
       "<table border=\"1\" class=\"dataframe\">\n",
       "  <thead>\n",
       "    <tr style=\"text-align: right;\">\n",
       "      <th></th>\n",
       "      <th>Actual</th>\n",
       "      <th>Pedictions</th>\n",
       "    </tr>\n",
       "    <tr>\n",
       "      <th>DATE</th>\n",
       "      <th></th>\n",
       "      <th></th>\n",
       "    </tr>\n",
       "  </thead>\n",
       "  <tbody>\n",
       "    <tr>\n",
       "      <th>2020-12-31</th>\n",
       "      <td>30.00</td>\n",
       "      <td>30.407120</td>\n",
       "    </tr>\n",
       "    <tr>\n",
       "      <th>2021-01-01</th>\n",
       "      <td>31.11</td>\n",
       "      <td>30.437858</td>\n",
       "    </tr>\n",
       "    <tr>\n",
       "      <th>2021-01-02</th>\n",
       "      <td>30.00</td>\n",
       "      <td>31.062407</td>\n",
       "    </tr>\n",
       "    <tr>\n",
       "      <th>2021-01-03</th>\n",
       "      <td>30.56</td>\n",
       "      <td>30.453843</td>\n",
       "    </tr>\n",
       "    <tr>\n",
       "      <th>2021-01-04</th>\n",
       "      <td>30.56</td>\n",
       "      <td>30.740842</td>\n",
       "    </tr>\n",
       "    <tr>\n",
       "      <th>...</th>\n",
       "      <td>...</td>\n",
       "      <td>...</td>\n",
       "    </tr>\n",
       "    <tr>\n",
       "      <th>2024-01-09</th>\n",
       "      <td>28.89</td>\n",
       "      <td>31.014610</td>\n",
       "    </tr>\n",
       "    <tr>\n",
       "      <th>2024-01-10</th>\n",
       "      <td>31.67</td>\n",
       "      <td>30.059933</td>\n",
       "    </tr>\n",
       "    <tr>\n",
       "      <th>2024-01-11</th>\n",
       "      <td>32.78</td>\n",
       "      <td>31.590798</td>\n",
       "    </tr>\n",
       "    <tr>\n",
       "      <th>2024-01-13</th>\n",
       "      <td>32.78</td>\n",
       "      <td>32.195035</td>\n",
       "    </tr>\n",
       "    <tr>\n",
       "      <th>2024-01-14</th>\n",
       "      <td>31.67</td>\n",
       "      <td>32.218907</td>\n",
       "    </tr>\n",
       "  </tbody>\n",
       "</table>\n",
       "<p>1055 rows × 2 columns</p>\n",
       "</div>"
      ],
      "text/plain": [
       "            Actual  Pedictions\n",
       "DATE                          \n",
       "2020-12-31   30.00   30.407120\n",
       "2021-01-01   31.11   30.437858\n",
       "2021-01-02   30.00   31.062407\n",
       "2021-01-03   30.56   30.453843\n",
       "2021-01-04   30.56   30.740842\n",
       "...            ...         ...\n",
       "2024-01-09   28.89   31.014610\n",
       "2024-01-10   31.67   30.059933\n",
       "2024-01-11   32.78   31.590798\n",
       "2024-01-13   32.78   32.195035\n",
       "2024-01-14   31.67   32.218907\n",
       "\n",
       "[1055 rows x 2 columns]"
      ]
     },
     "execution_count": 27,
     "metadata": {},
     "output_type": "execute_result"
    }
   ],
   "source": [
    "combined = pd.concat([test_set[\"Tommorow_TMAX\"], pd.Series(predictions.flatten(), index=test_set.index)], axis=1)\n",
    "combined.columns = [\"Actual\", \"Pedictions\"]\n",
    "combined"
   ]
  },
  {
   "cell_type": "code",
   "execution_count": 28,
   "id": "07ab5f05-adad-4d03-a07c-7ffdf4ffe0a6",
   "metadata": {},
   "outputs": [
    {
     "data": {
      "text/plain": [
       "<Axes: xlabel='DATE'>"
      ]
     },
     "execution_count": 28,
     "metadata": {},
     "output_type": "execute_result"
    },
    {
     "data": {
      "image/png": "[encoded data removed]",
      "text/plain": [
       "<Figure size 640x480 with 1 Axes>"
      ]
     },
     "metadata": {},
     "output_type": "display_data"
    }
   ],
   "source": [
    "combined.plot()"
   ]
  },
  {
   "cell_type": "code",
   "execution_count": 29,
   "id": "f7dfdfa2-216b-4613-aeeb-c1ca657e2827",
   "metadata": {},
   "outputs": [
    {
     "data": {
      "text/plain": [
       "['Tommorow TMAX predictor.pkl']"
      ]
     },
     "execution_count": 29,
     "metadata": {},
     "output_type": "execute_result"
    }
   ],
   "source": [
    "import joblib\n",
    "\n",
    "joblib.dump(model, 'Tommorow TMAX predictor.pkl')"
   ]
  },
  {
   "cell_type": "markdown",
   "id": "2f8fb0c0-4695-4fee-8041-d47fbb6bd784",
   "metadata": {},
   "source": [
    "5. Simple widgets for play the algorithm"
   ]
  },
  {
   "cell_type": "code",
   "execution_count": 30,
   "id": "3db530cc-949d-48ae-b4c7-a6198b2f9132",
   "metadata": {},
   "outputs": [
    {
     "data": {
      "application/vnd.jupyter.widget-view+json": {
       "model_id": "1719425c8f5643d9be4028c0caa0beda",
       "version_major": 2,
       "version_minor": 0
      },
      "text/plain": [
       "Text(value='', description='PRCP:', placeholder='Enter prcp')"
      ]
     },
     "metadata": {},
     "output_type": "display_data"
    },
    {
     "data": {
      "application/vnd.jupyter.widget-view+json": {
       "model_id": "c0c79a2274e545a9a5fdf78122ebb06d",
       "version_major": 2,
       "version_minor": 0
      },
      "text/plain": [
       "Text(value='', description='TMAX:', placeholder='Enter tmax')"
      ]
     },
     "metadata": {},
     "output_type": "display_data"
    },
    {
     "data": {
      "application/vnd.jupyter.widget-view+json": {
       "model_id": "541b2d8042d34acc9ff3abbf0502a163",
       "version_major": 2,
       "version_minor": 0
      },
      "text/plain": [
       "Text(value='', description='TMIN:', placeholder='tmin')"
      ]
     },
     "metadata": {},
     "output_type": "display_data"
    },
    {
     "data": {
      "application/vnd.jupyter.widget-view+json": {
       "model_id": "2efd6016b5f844e88af5fc0f924ae22d",
       "version_major": 2,
       "version_minor": 0
      },
      "text/plain": [
       "Text(value='', description='Month_TMAX_AVG:', placeholder='Enter month_tmax_avg')"
      ]
     },
     "metadata": {},
     "output_type": "display_data"
    },
    {
     "data": {
      "application/vnd.jupyter.widget-view+json": {
       "model_id": "db3587c633ba43e38858b965a2d88be0",
       "version_major": 2,
       "version_minor": 0
      },
      "text/plain": [
       "Button(description='OK', icon='check', style=ButtonStyle(), tooltip='Click me')"
      ]
     },
     "metadata": {},
     "output_type": "display_data"
    },
    {
     "data": {
      "application/vnd.jupyter.widget-view+json": {
       "model_id": "1beb3523ca0d4e46b425d63f54711da8",
       "version_major": 2,
       "version_minor": 0
      },
      "text/plain": [
       "Output()"
      ]
     },
     "metadata": {},
     "output_type": "display_data"
    }
   ],
   "source": [
    "import ipywidgets as widgets\n",
    "from IPython.display import display\n",
    "import numpy as np\n",
    "\n",
    "prcp_input = widgets.Text(\n",
    "    value='',\n",
    "    placeholder='Enter prcp',\n",
    "    description='PRCP:',\n",
    "    disabled=False\n",
    ")\n",
    "\n",
    "tmax_input = widgets.Text(\n",
    "    value='',\n",
    "    placeholder='Enter tmax',\n",
    "    description='TMAX:',\n",
    "    disabled=False\n",
    ")\n",
    "\n",
    "tmin_input = widgets.Text(\n",
    "    value='',\n",
    "    placeholder='tmin',\n",
    "    description='TMIN:',\n",
    "    disabled=False\n",
    ")\n",
    "\n",
    "month_tmax_avg_input = widgets.Text(\n",
    "    value='',\n",
    "    placeholder='Enter month_tmax_avg',\n",
    "    description='Month_TMAX_AVG:',\n",
    "    disabled=False\n",
    ")\n",
    "\n",
    "button = widgets.Button(\n",
    "    description='OK',\n",
    "    disabled=False,\n",
    "    button_style='',\n",
    "    tooltip='Click me',\n",
    "    icon='check'\n",
    ")\n",
    "\n",
    "output = widgets.Output()\n",
    "\n",
    "def on_button_clicked(b):\n",
    "    with output:\n",
    "        output.clear_output()\n",
    "        prcp = prcp_input.value\n",
    "        tmax = tmax_input.value\n",
    "        tmin = tmin_input.value\n",
    "        month_tmax_avg = month_tmax_avg_input.value\n",
    "\n",
    "        if not prcp or not tmax or not tmin or not month_tmax_avg:\n",
    "            print(\"Error: All fields are required.\")\n",
    "            return\n",
    "        \n",
    "        try:\n",
    "            prcp = float(prcp)\n",
    "            tmax = float(tmax)\n",
    "            tmin = float(tmin)\n",
    "            month_tmax_avg = float(month_tmax_avg)\n",
    "        except ValueError:\n",
    "            print(\"Error: All inputs must be numeric.\")\n",
    "            return\n",
    "        prediction = model.predict(pd.DataFrame(np.array([prcp, tmax, tmin, month_tmax_avg]).reshape(1,-1), columns = [\"PRCP\",\"TMAX\",\"TMIN\", \"Month_TMAX_AVG\"]))\n",
    "        pred = int(prediction[0][0])\n",
    "        print(pred, \"C\")\n",
    "\n",
    "button.on_click(on_button_clicked)\n",
    "display(prcp_input, tmax_input, tmin_input, month_tmax_avg_input, button, output)\n"
   ]
  }
 ],
 "metadata": {
  "kernelspec": {
   "display_name": "Python 3 (ipykernel)",
   "language": "python",
   "name": "python3"
  },
  "language_info": {
   "codemirror_mode": {
    "name": "ipython",
    "version": 3
   },
   "file_extension": ".py",
   "mimetype": "text/x-python",
   "name": "python",
   "nbconvert_exporter": "python",
   "pygments_lexer": "ipython3",
   "version": "3.11.7"
  }
 },
 "nbformat": 4,
 "nbformat_minor": 5
}
